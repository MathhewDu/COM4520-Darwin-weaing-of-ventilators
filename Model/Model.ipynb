{
 "cells": [
  {
   "cell_type": "code",
   "execution_count": 1,
   "metadata": {},
   "outputs": [
    {
     "data": {
      "text/plain": [
       "'d:\\\\courses\\\\Weaning\\\\COM4520-Darwin-weaing-of-ventilators\\\\Transformers\\\\Model'"
      ]
     },
     "execution_count": 1,
     "metadata": {},
     "output_type": "execute_result"
    }
   ],
   "source": [
    "import torch\n",
    "from torch import nn\n",
    "from torch.utils.data import Dataset, DataLoader\n",
    "import pandas as pd\n",
    "import os\n",
    "import numpy as np \n",
    "import IPython\n",
    "import matplotlib.pyplot as plt\n",
    "from sklearn.metrics import accuracy_score, precision_score, recall_score, f1_score\n",
    "import random\n",
    "import dataloader as da\n",
    "from sklearn.metrics import roc_curve \n",
    "os.getcwd()"
   ]
  },
  {
   "cell_type": "markdown",
   "metadata": {},
   "source": [
    "## Create LSTM Forcasting Model"
   ]
  },
  {
   "cell_type": "code",
   "execution_count": 2,
   "metadata": {},
   "outputs": [],
   "source": [
    "class LSTM(nn.Module):\n",
    "    def __init__(self, input_size=1, hidden_layer_size=100, output_size=1, batch_size = 50, feature_size=10):\n",
    "        super().__init__()\n",
    "        self.hidden_layer_size = hidden_layer_size\n",
    "\n",
    "        self.lstm = nn.LSTM(input_size, hidden_layer_size).cuda()\n",
    "\n",
    "        self.linear = nn.Linear(hidden_layer_size, output_size).cuda()\n",
    "\n",
    "        self.hidden_cell = (torch.zeros(1,feature_size,self.hidden_layer_size).cuda(),\n",
    "                            torch.zeros(1,feature_size,self.hidden_layer_size).cuda())\n",
    "        self.batch_size = batch_size\n",
    "        \n",
    "        self.feature_size = feature_size\n",
    "    def forward(self, input_seq):\n",
    "        lstm_out, self.hidden_cell = self.lstm(input_seq.view(self.batch_size, self.feature_size, -1), self.hidden_cell)\n",
    "        predictions = self.linear(lstm_out.view(self.batch_size, self.feature_size, -1))\n",
    "        return predictions[:,:,-1]\n",
    "    def reset(self):\n",
    "        self.hidden_cell = (torch.zeros(1,self.feature_size,self.hidden_layer_size).cuda(),\n",
    "                    torch.zeros(1,self.feature_size,self.hidden_layer_size).cuda())"
   ]
  },
  {
   "cell_type": "markdown",
   "metadata": {},
   "source": [
    "### Create LSTM dataset"
   ]
  },
  {
   "cell_type": "code",
   "execution_count": 3,
   "metadata": {},
   "outputs": [
    {
     "name": "stderr",
     "output_type": "stream",
     "text": [
      "d:\\courses\\Weaning\\COM4520-Darwin-weaing-of-ventilators\\Transformers\\Model\\dataloader.py:94: DtypeWarning: Columns (5,22) have mixed types.Specify dtype option on import or set low_memory=False.\n",
      "  load_df,windows_size =load(file_name)\n",
      "d:\\courses\\Weaning\\COM4520-Darwin-weaing-of-ventilators\\Transformers\\Model\\dataloader.py:55: SettingWithCopyWarning: \n",
      "A value is trying to be set on a copy of a slice from a DataFrame.\n",
      "Try using .loc[row_indexer,col_indexer] = value instead\n",
      "\n",
      "See the caveats in the documentation: https://pandas.pydata.org/pandas-docs/stable/user_guide/indexing.html#returning-a-view-versus-a-copy\n",
      "  df[column] = normalized_data\n"
     ]
    }
   ],
   "source": [
    "train_set = da.MyDataset('windows_df_360.csv',be_normalize=True)\n",
    "x_train = train_set.x_train\n",
    "x_test = train_set.x_test"
   ]
  },
  {
   "cell_type": "markdown",
   "metadata": {},
   "source": [
    "### LSTM Training process"
   ]
  },
  {
   "cell_type": "code",
   "execution_count": 4,
   "metadata": {},
   "outputs": [],
   "source": [
    "def LSTM_train(train_loader,optimizer,loss_function,model,epochs=5,batch_size=30,windows_size=360):\n",
    "    record_epoch_loss=[]\n",
    "    record_batch_loss=[]\n",
    "    for i in range(epochs):\n",
    "        for j, batch_windows in enumerate(train_loader):\n",
    "            if batch_windows.shape[0]!=batch_size:\n",
    "                continue\n",
    "            optimizer.zero_grad()\n",
    "            batch_loss=torch.tensor([]).cuda()\n",
    "            for steps in range(windows_size-1):\n",
    "                inputvector = batch_windows[:,steps,:]\n",
    "                y_pred = model(inputvector)\n",
    "                y_true = batch_windows[:,steps+1,:]\n",
    "                single_loss = loss_function(y_pred, y_true)\n",
    "                batch_loss=torch.cat((batch_loss,single_loss))\n",
    "            mean_loss = batch_loss.mean()\n",
    "            mean_loss.backward()\n",
    "            record_batch_loss.append(torch.Tensor.cpu(mean_loss).detach().numpy())\n",
    "            optimizer.step()\n",
    "            model.reset()\n",
    "            # print(record_batch_loss[-1])\n",
    "        record_epoch_loss.append(np.mean(record_batch_loss[i*(j-1):(i+1)*(j-1)]))\n",
    "    plt.plot(record_batch_loss)\n",
    "    batch_loss.cpu()\n",
    "    batch_windows.cpu()\n",
    "    inputvector.cpu()\n",
    "    single_loss.cpu()\n",
    "    torch.cuda.empty_cache()\n",
    "    print(record_epoch_loss)\n",
    "    return(record_epoch_loss)"
   ]
  },
  {
   "cell_type": "markdown",
   "metadata": {},
   "source": [
    "### Train LSTM Model"
   ]
  },
  {
   "cell_type": "code",
   "execution_count": 5,
   "metadata": {},
   "outputs": [
    {
     "name": "stdout",
     "output_type": "stream",
     "text": [
      "[0.06787962, 0.012322433, 0.0084364535, 0.008213936, 0.008081443]\n"
     ]
    },
    {
     "data": {
      "image/png": "[encoded data removed]",
      "text/plain": [
       "<Figure size 432x288 with 1 Axes>"
      ]
     },
     "metadata": {
      "needs_background": "light"
     },
     "output_type": "display_data"
    }
   ],
   "source": [
    "batch_size=30\n",
    "model = LSTM(batch_size = batch_size, hidden_layer_size=100,feature_size=10).cuda()\n",
    "loss_function = nn.L1Loss(reduction='none').cuda()\n",
    "optimizer = torch.optim.Adam(model.parameters(), lr=0.001)\n",
    "epochs = 5\n",
    "windows_size = 360\n",
    "train_loader=DataLoader(x_train,batch_size=batch_size,shuffle=True)\n",
    "test_loader=DataLoader(x_test,batch_size=batch_size,shuffle=True)\n",
    "\n",
    "random.seed(123)\n",
    "np.random.seed(123)\n",
    "torch.manual_seed(123)\n",
    "lstm_epoch_loss=LSTM_train(train_loader,optimizer,loss_function,model)"
   ]
  },
  {
   "cell_type": "markdown",
   "metadata": {},
   "source": [
    "### Predict for next 2 hours"
   ]
  },
  {
   "cell_type": "code",
   "execution_count": 7,
   "metadata": {},
   "outputs": [
    {
     "name": "stdout",
     "output_type": "stream",
     "text": [
      "[0.022231625, 0.034477856, 0.046867725, 0.059047908, 0.08146648, 0.10307432]\n"
     ]
    },
    {
     "data": {
      "image/png": "[encoded data removed]",
      "text/plain": [
       "<Figure size 432x288 with 1 Axes>"
      ]
     },
     "metadata": {
      "needs_background": "light"
     },
     "output_type": "display_data"
    }
   ],
   "source": [
    "def loss_predict(dataloader,minutes=15):\n",
    "    test_batch_loss=[]\n",
    "    for j, batch_windows in enumerate(dataloader):\n",
    "        if batch_windows.shape[0]!=batch_size:\n",
    "            continue\n",
    "        batch_loss=torch.tensor([]).cuda()\n",
    "        start_min=np.random.randint(windows_size-minutes)\n",
    "        for steps in range(start_min,start_min+minutes):\n",
    "            if steps == start_min:\n",
    "                inputvector = batch_windows[:,steps,:]\n",
    "            else:\n",
    "                inputvector = y_pred\n",
    "            y_pred = model(inputvector)\n",
    "            y_true = batch_windows[:,steps+1,:]\n",
    "            single_loss = loss_function(y_pred, y_true)\n",
    "            batch_loss=torch.cat((batch_loss,single_loss))\n",
    "        mean_loss = batch_loss.mean()\n",
    "        test_batch_loss.append(torch.Tensor.cpu(mean_loss).detach().numpy())\n",
    "        model.reset()\n",
    "    batch_loss.cpu()\n",
    "    batch_windows.cpu()\n",
    "    inputvector.cpu()\n",
    "    single_loss.cpu()\n",
    "    torch.cuda.empty_cache()\n",
    "    return(np.mean(test_batch_loss))\n",
    "\n",
    "predict_loss = []\n",
    "predict_period=[15,30,45,60,90,120]\n",
    "for period in predict_period:\n",
    "    predict_loss.append(loss_predict(test_loader,minutes=period))\n",
    "print(predict_loss)\n",
    "plt.bar(range(len(predict_period)),predict_loss,tick_label=predict_period)\n",
    "plt.show()"
   ]
  },
  {
   "cell_type": "markdown",
   "metadata": {},
   "source": [
    "## Create FFNN Classification Model"
   ]
  },
  {
   "cell_type": "code",
   "execution_count": 8,
   "metadata": {},
   "outputs": [],
   "source": [
    "class ClassificationNet(nn.Module) : \n",
    "    def __init__(self, input_size, hidden_size, num_classes) : \n",
    "        super(ClassificationNet, self).__init__()\n",
    "        self.fc1 = nn.Linear(input_size , hidden_size)\n",
    "        self.fc2 = nn.Linear(hidden_size , 100)\n",
    "        self.fc3 = nn.Linear(100 , num_classes)\n",
    "        self.sigmoid = nn.Sigmoid()\n",
    "\n",
    "    def forward(self, x) : \n",
    "        out = self.fc1(x)\n",
    "        out = self.sigmoid(out)\n",
    "        out = self.fc2(out)\n",
    "        out = self.sigmoid(out)\n",
    "        out = self.fc3(out)\n",
    "        out = self.sigmoid(out)\n",
    "        return out"
   ]
  },
  {
   "cell_type": "markdown",
   "metadata": {},
   "source": [
    "#### Grade the classification result"
   ]
  },
  {
   "cell_type": "code",
   "execution_count": 9,
   "metadata": {},
   "outputs": [],
   "source": [
    "def performance_score(y_pred,y_true,print_performance=True):\n",
    "    y_pred[y_pred>0.5]=1.\n",
    "    y_pred[y_pred<=0.5]=0.\n",
    "    y_pred=torch.Tensor.cpu(y_pred).detach().numpy()\n",
    "    y_true=torch.Tensor.cpu(y_true).detach().numpy()\n",
    "    performance_mark=[accuracy_score(y_true,y_pred),precision_score(y_true,y_pred,average='macro',zero_division=0)\n",
    "                       ,recall_score(y_true,y_pred,average='macro'),f1_score(y_true,y_pred,average='macro')]\n",
    "    if(print_performance):\n",
    "        print('Accuracy:',performance_mark[0])\n",
    "        print('Precision:', performance_mark[1])\n",
    "        print('Recall:', performance_mark[2])\n",
    "        print('F1-Score:', performance_mark[3])\n",
    "    return performance_mark"
   ]
  },
  {
   "cell_type": "markdown",
   "metadata": {},
   "source": [
    "### Create classification dataset"
   ]
  },
  {
   "cell_type": "code",
   "execution_count": 10,
   "metadata": {},
   "outputs": [],
   "source": [
    "minutes = 30\n",
    "classification_train_set = da.ClassificationDataset('windows_df_360_last.csv',train_rate=0.8, be_normalize=True, predict_period=minutes)\n",
    "classification_x_train = classification_train_set.x_train\n",
    "classification_x_test = classification_train_set.x_test"
   ]
  },
  {
   "cell_type": "markdown",
   "metadata": {},
   "source": [
    "### Classification training process"
   ]
  },
  {
   "cell_type": "code",
   "execution_count": 11,
   "metadata": {},
   "outputs": [],
   "source": [
    "def Classificationl_train(train_loader,test_loader,classification_optimizer,criterionCE,classification_model,\n",
    "                          batch_size=200,minutes=30,feature_num=10,epochs=250):\n",
    "    record_epoch_loss=[]\n",
    "    record_batch_loss_classify=[]\n",
    "    test_epoch_loss=[]\n",
    "    test_batch_loss=[]\n",
    "\n",
    "    for i in range(epochs):\n",
    "        for j, batch_windows in enumerate(train_loader):\n",
    "            if batch_windows.shape[0]!=batch_size:\n",
    "                continue\n",
    "            \n",
    "            inputvector = batch_windows[:,:,1:].reshape(batch_size,minutes*feature_num)\n",
    "            y_pred = classification_model(inputvector)\n",
    "            \n",
    "            y_true = batch_windows[:,0,0].reshape(batch_size,1)\n",
    "            batch_loss = criterionCE(y_pred, y_true).mean()\n",
    "            \n",
    "            classification_optimizer.zero_grad()\n",
    "            batch_loss.backward()\n",
    "            classification_optimizer.step()\n",
    "            \n",
    "            record_batch_loss_classify.append(torch.Tensor.cpu(batch_loss).detach().numpy())\n",
    "        record_epoch_loss.append(np.mean(record_batch_loss_classify[i*(j-1):(i+1)*(j-1)]))\n",
    "        # print(\"train loss: \",record_epoch_loss[-1])\n",
    "        for k, batch_windows in enumerate(test_loader):\n",
    "            if batch_windows.shape[0]!=batch_size:\n",
    "                continue\n",
    "            \n",
    "            inputvector = batch_windows[:,:,1:].reshape(batch_size,minutes*feature_num)\n",
    "            test_y_pred = classification_model(inputvector)\n",
    "            \n",
    "            test_y_true = batch_windows[:,0,0].reshape(batch_size,1)\n",
    "            batch_loss = criterionCE(test_y_pred, test_y_true).mean()\n",
    "            \n",
    "            test_batch_loss.append(torch.Tensor.cpu(batch_loss).detach().numpy())\n",
    "        test_epoch_loss.append(np.mean(test_batch_loss[i*(k-1):(i+1)*(k-1)]))\n",
    "        # print(\"test loss: \",test_epoch_loss[-1])\n",
    "        if i == epochs-1:\n",
    "            print('Score on Trainset: ')\n",
    "            train_performance = performance_score(y_pred,y_true,print_performance=True)\n",
    "            print('\\nScore on Testset: ')\n",
    "            test_y_probs=test_y_pred.clone().detach()\n",
    "            test_performance = performance_score(test_y_pred,test_y_true,print_performance=True)\n",
    "    batch_loss.cpu()\n",
    "    batch_windows.cpu()\n",
    "    inputvector.cpu()\n",
    "    torch.cuda.empty_cache()\n",
    "    \n",
    "    fig,ax = plt.subplots()\n",
    "    plt.xlabel('Steps(Batch)')\n",
    "    plt.ylabel('Loss')\n",
    "    plt.plot(test_epoch_loss,label=\"Loss for 1 hour LSTM model\" )\n",
    "    plt.plot(record_epoch_loss,label=\"Loss for Transformer model\")\n",
    "    plt.legend()\n",
    "    plt.grid(True)\n",
    "    plt.show()\n",
    "    return(test_performance,test_y_probs,test_y_true)"
   ]
  },
  {
   "cell_type": "markdown",
   "metadata": {},
   "source": [
    "### Train Classification Model"
   ]
  },
  {
   "cell_type": "code",
   "execution_count": 12,
   "metadata": {},
   "outputs": [
    {
     "name": "stdout",
     "output_type": "stream",
     "text": [
      "Score on Trainset: \n",
      "Accuracy: 0.85\n",
      "Precision: 0.803125\n",
      "Recall: 0.7658991228070176\n",
      "F1-Score: 0.7814685314685315\n",
      "\n",
      "Score on Testset: \n",
      "Accuracy: 0.82\n",
      "Precision: 0.745906267645398\n",
      "Recall: 0.745906267645398\n",
      "F1-Score: 0.745906267645398\n"
     ]
    },
    {
     "data": {
      "image/png": "[encoded data removed]",
      "text/plain": [
       "<Figure size 432x288 with 1 Axes>"
      ]
     },
     "metadata": {
      "needs_background": "light"
     },
     "output_type": "display_data"
    }
   ],
   "source": [
    "epochs = 250\n",
    "hidden_size = 1000\n",
    "num_classes = 1\n",
    "feature_num = 10\n",
    "predict_period=classification_x_train.shape[1]\n",
    "input_size=predict_period*feature_num\n",
    "batch_size=200\n",
    "\n",
    "classification_model = ClassificationNet(input_size, hidden_size, num_classes).cuda()\n",
    "criterionCE = nn.BCELoss().cuda()\n",
    "classification_optimizer = torch.optim.Adam(classification_model.parameters(), lr=0.0001)\n",
    "\n",
    "train_loader = DataLoader(classification_x_train,batch_size=batch_size,shuffle=True)\n",
    "test_loader = DataLoader(classification_x_test,batch_size=batch_size,shuffle=True)\n",
    "\n",
    "random.seed(123)\n",
    "np.random.seed(123)\n",
    "torch.manual_seed(123)\n",
    "classification_test_performance,classification_y_probs,classification_y_true=Classificationl_train(train_loader,\n",
    "                                                                                                    test_loader,\n",
    "                                                                                                    classification_optimizer,\n",
    "                                                                                                    criterionCE,\n",
    "                                                                                                    classification_model)"
   ]
  },
  {
   "cell_type": "markdown",
   "metadata": {},
   "source": [
    "### Predict the next 30 mins data and then create the new predicted data set"
   ]
  },
  {
   "cell_type": "code",
   "execution_count": 13,
   "metadata": {},
   "outputs": [
    {
     "name": "stderr",
     "output_type": "stream",
     "text": [
      "C:\\Users\\16115\\AppData\\Local\\Temp/ipykernel_18472/1007118120.py:21: UserWarning: Creating a tensor from a list of numpy.ndarrays is extremely slow. Please consider converting the list to a single numpy.ndarray with numpy.array() before converting to a tensor. (Triggered internally at  ..\\torch\\csrc\\utils\\tensor_new.cpp:201.)\n",
      "  predict_output = torch.tensor(predict_output).cuda()\n"
     ]
    },
    {
     "name": "stdout",
     "output_type": "stream",
     "text": [
      "torch.Size([930, 30, 11])\n"
     ]
    }
   ],
   "source": [
    "def lstm_predict(dataloader,minutes=30,batch_size=30):\n",
    "    predict_output=[]\n",
    "    for i, batch_windows in enumerate(dataloader):\n",
    "        if batch_windows.shape[0]!=batch_size:\n",
    "            continue\n",
    "        y_true = batch_windows[:,0,0].reshape(batch_size,1,1)\n",
    "        predict_output_period=torch.tensor([])\n",
    "        for steps in range(minutes-1):\n",
    "            if steps == 0:\n",
    "                inputvector = batch_windows[:,steps,1:]\n",
    "                predict_data = torch.cat((y_true.cpu(),inputvector.reshape(batch_size,1,10).cpu()),dim=2)\n",
    "                predict_output_period = torch.cat((predict_output_period,predict_data.reshape(batch_size,1,11).cpu()),dim=1)\n",
    "            else:\n",
    "                inputvector = y_pred\n",
    "            y_pred = model(inputvector.cuda())\n",
    "            predict_data = torch.cat((y_true.cpu(),y_pred.reshape(batch_size,1,10).cpu()),dim=2)\n",
    "            predict_output_period = torch.cat((predict_output_period,predict_data.reshape(batch_size,1,11).cpu()),dim=1)\n",
    "            torch.cuda.empty_cache()\n",
    "        predict_output.append(torch.Tensor.cpu(predict_output_period).detach().numpy())\n",
    "        model.reset()\n",
    "    predict_output = torch.tensor(predict_output).cuda()\n",
    "    predict_output = predict_output.reshape(-1,minutes,11)\n",
    "    return(predict_output)\n",
    "\n",
    "train_loader = DataLoader(classification_x_train.cpu(),batch_size=30,shuffle=True)\n",
    "test_loader = DataLoader(classification_x_test.cpu(),batch_size=30,shuffle=True)\n",
    "train_output=lstm_predict(train_loader,minutes=minutes,batch_size=30)\n",
    "predict_output=lstm_predict(test_loader,minutes=minutes,batch_size=30)\n",
    "print(predict_output.shape)"
   ]
  },
  {
   "cell_type": "markdown",
   "metadata": {},
   "source": [
    "### use the predicted dataset for classification to get the performance of the whole model"
   ]
  },
  {
   "cell_type": "code",
   "execution_count": 14,
   "metadata": {},
   "outputs": [
    {
     "name": "stdout",
     "output_type": "stream",
     "text": [
      "Performance score on test data set:\n",
      "Accuracy: 0.8086021505376344\n",
      "Precision: 0.7693848928070527\n",
      "Recall: 0.7375969809771921\n",
      "F1-Score: 0.7500905797101449\n",
      "\n",
      "Performance score on train data set:\n",
      "Accuracy: 0.8344086021505376\n",
      "Precision: 0.7945359618327482\n",
      "Recall: 0.7048821840741383\n",
      "F1-Score: 0.7322238628698994\n",
      "tensor([[1., 1., 1., 1., 1., 1., 1., 1., 1., 0., 1., 1., 1., 1., 1., 0., 0., 1.,\n",
      "         1., 1., 1., 1., 1., 1., 1., 1., 1., 1., 1., 1., 1., 1., 1., 1., 1., 1.,\n",
      "         0., 1., 0., 1., 1., 1., 1., 1., 1., 0., 1., 1., 1., 1.]],\n",
      "       device='cuda:0', grad_fn=<PermuteBackward0>)\n",
      "tensor([[1., 1., 1., 1., 1., 1., 1., 1., 1., 0., 1., 0., 1., 1., 1., 1., 0., 1.,\n",
      "         1., 1., 1., 1., 0., 1., 1., 1., 1., 1., 1., 1., 1., 1., 1., 1., 1., 0.,\n",
      "         1., 0., 1., 1., 1., 1., 1., 0., 0., 0., 0., 1., 1., 1.]],\n",
      "       device='cuda:0')\n"
     ]
    }
   ],
   "source": [
    "def practice_predict(dataset,minutes=30):\n",
    "    y_preds=torch.tensor([]).cuda()\n",
    "    y_trues=torch.tensor([]).cuda()\n",
    "    for j, windows in enumerate(dataset):\n",
    "        if windows.shape[0]!=minutes:\n",
    "            continue\n",
    "        inputvector = windows[:,1:].reshape(1,minutes*10)\n",
    "        y_pred = classification_model(inputvector)\n",
    "        y_preds=torch.cat((y_preds,y_pred))\n",
    "        y_true = windows[0,0].reshape(1,1)\n",
    "        y_trues=torch.cat((y_trues,y_true))\n",
    "    y_probs = y_preds.clone().detach()\n",
    "    performance=performance_score(y_preds,y_trues)\n",
    "    return(performance,y_preds,y_trues,y_probs)\n",
    "predict_loss_transformer = []\n",
    "batch_size=30\n",
    "print(\"Performance score on test data set:\")\n",
    "predict_accuracy_score,y_preds,y_trues,y_probs = practice_predict(predict_output,minutes=minutes)\n",
    "print(\"\\nPerformance score on train data set:\")\n",
    "train_accuracy_score,train_y_preds,train_y_trues,train_y_probs = practice_predict(train_output,minutes=minutes)\n",
    "print(y_preds[0:50].T)\n",
    "print(y_trues[0:50].T)"
   ]
  },
  {
   "cell_type": "code",
   "execution_count": 15,
   "metadata": {},
   "outputs": [
    {
     "data": {
      "image/png": "[encoded data removed]",
      "text/plain": [
       "<Figure size 432x288 with 1 Axes>"
      ]
     },
     "metadata": {
      "needs_background": "light"
     },
     "output_type": "display_data"
    }
   ],
   "source": [
    "model_trues = torch.Tensor.cpu(y_trues).detach().numpy()\n",
    "model_probs = torch.Tensor.cpu(y_probs).detach().numpy()\n",
    "model_clas_probs = torch.Tensor.cpu(classification_y_probs).detach().numpy()\n",
    "model_clas_trues = torch.Tensor.cpu(classification_y_true).detach().numpy()\n",
    "fper, tper, thresholds = roc_curve(model_trues, model_probs)\n",
    "fper_clas, tper_clas, thresholds = roc_curve(model_clas_trues, model_clas_probs)\n",
    "fig,ax = plt.subplots()\n",
    "plt.plot(fper_clas, tper_clas, color='darkorange', label=\"ROC for classification model\")\n",
    "plt.plot(fper, tper, color='cornflowerblue', label=\"ROC for system(forcasting use MAE)\")\n",
    "plt.plot([0, 1], [0, 1], color='green', linestyle='--')\n",
    "plt.xlabel('False Positive Rate')\n",
    "plt.ylabel('True Positive Rate')\n",
    "plt.title('Mutiple Receiver Operating Characteristic Curve')\n",
    "plt.legend()\n",
    "plt.show()"
   ]
  }
 ],
 "metadata": {
  "interpreter": {
   "hash": "ad2bdc8ecc057115af97d19610ffacc2b4e99fae6737bb82f5d7fb13d2f2c186"
  },
  "kernelspec": {
   "display_name": "Python 3.9.7 ('base')",
   "language": "python",
   "name": "python3"
  },
  "language_info": {
   "codemirror_mode": {
    "name": "ipython",
    "version": 3
   },
   "file_extension": ".py",
   "mimetype": "text/x-python",
   "name": "python",
   "nbconvert_exporter": "python",
   "pygments_lexer": "ipython3",
   "version": "3.9.7"
  }
 },
 "nbformat": 4,
 "nbformat_minor": 2
}
